{
  "nbformat": 4,
  "nbformat_minor": 0,
  "metadata": {
    "kernelspec": {
      "name": "python3",
      "display_name": "Python 3"
    },
    "language_info": {
      "name": "python"
    }
  },
  "cells": [
    {
      "cell_type": "markdown",
      "metadata": {},
      "source": [
        "### **5. Class Materials**\n",
        "<div style=\"text-align: left;\">\n",
        "| # | Sessions | Keywords |\n",
        "|:---:|:---:|:---:|\n",
        "| 1 | Markdown Language 👪 | [syntax](https://github.com/ms624atyale/NLP_2024/blob/main/0_MarkDown4README_md.ipynb) |\n",
        "| 2 | Markdown Language | [syntax](https://github.com/ms624atyale/NLP_2024/blob/main/0_MarkDown4README_md.ipynb) |\n",
        "</div>\n",
        "\n",
        "#💩\n",
        "\n"
      ]
    }
  ]
}
