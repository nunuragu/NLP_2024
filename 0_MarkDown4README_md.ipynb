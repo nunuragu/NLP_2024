{
  "nbformat": 4,
  "nbformat_minor": 0,
  "metadata": {
    "kernelspec": {
      "name": "python3",
      "display_name": "Python 3"
    },
    "language_info": {
      "name": "python"
    }
  },
  "cells": [
    {
      "cell_type": "markdown",
      "metadata": {},
      "source": [
        "### **5. Class Materials**\n",
        "<table style=\"width: 100%; text-align: left; border-collapse: collapse;\">\n",
        "  <tr>\n",
        "    <th>#</th>\n",
        "    <th>Sessions</th>\n",
        "    <th>Keywords</th>\n",
        "  </tr>\n",
        "  <tr>\n",
        "    <td>1</td>\n",
        "    <td>Markdown Language 👪</td>\n",
        "    <td><a href=\"https://github.com/ms624atyale/NLP_2024/blob/main/0_MarkDown4README_md.ipynb\">syntax</a></td>\n",
        "  </tr>\n",
        "  <tr>\n",
        "    <td>2</td>\n",
        "    <td>Markdown Language</td>\n",
        "    <td><a href=\"https://github.com/ms624atyale/NLP_2024/blob/main/0_MarkDown4README_md.ipynb\">syntax</a></td>\n",
        "  </tr>\n",
        "</table>\n",
        "\n",
        "#💩\n",
        "\n"
      ]
    }
  ]
}
