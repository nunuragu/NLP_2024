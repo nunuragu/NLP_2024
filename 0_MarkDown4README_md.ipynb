{
  "cell_type": "markdown",
  "source": [
    "### **5. Class Materials**\n",
    "<br>\n",
    "| # | Sessions | Keywords |\n",
    "|:---:|:---:|:---:|\n",
    "| 1 | Markdown Language 👪 | [syntax](https://github.com/ms624atyale/NLP_2024/blob/main/0_MarkDown4README_md.ipynb) |\n",
    "| 2 | Markdown Language | [syntax](https://github.com/ms624atyale/NLP_2024/blob/main/0_MarkDown4README_md.ipynb) |\n",
    "\n",
    "#💩\n",
    "\n"
  ]
}
